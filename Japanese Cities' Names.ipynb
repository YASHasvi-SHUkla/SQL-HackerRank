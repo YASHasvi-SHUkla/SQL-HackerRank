SELECT NAME
FROM CITY
WHERE COUNTRYCODE = 'JPN';
-- SELECTING Name from the Table City and printing only which have CountryCode equal to JPN
